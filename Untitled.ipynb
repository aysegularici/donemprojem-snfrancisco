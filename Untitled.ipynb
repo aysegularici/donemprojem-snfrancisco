{
 "cells": [
  {
   "cell_type": "code",
   "execution_count": 17,
   "id": "c756ad9b",
   "metadata": {},
   "outputs": [],
   "source": [
    "import numpy as np\n",
    "import pandas as pd\n",
    "import folium"
   ]
  },
  {
   "cell_type": "code",
   "execution_count": 18,
   "id": "1bc0fe88",
   "metadata": {},
   "outputs": [
    {
     "name": "stdout",
     "output_type": "stream",
     "text": [
      "0.12.1.post1\n"
     ]
    }
   ],
   "source": [
    "print(folium.__version__)"
   ]
  },
  {
   "cell_type": "code",
   "execution_count": 19,
   "id": "f158e20c",
   "metadata": {},
   "outputs": [
    {
     "data": {
      "text/plain": [
       "'C:\\\\Users\\\\Casper'"
      ]
     },
     "execution_count": 19,
     "metadata": {},
     "output_type": "execute_result"
    }
   ],
   "source": [
    "%lsmagic\n",
    "import os\n",
    "os.getcwd()"
   ]
  },
  {
   "cell_type": "code",
   "execution_count": 20,
   "id": "c8b27d62",
   "metadata": {},
   "outputs": [
    {
     "name": "stdout",
     "output_type": "stream",
     "text": [
      "Wall time: 1.44 s\n"
     ]
    }
   ],
   "source": [
    "%%time\n",
    "df= pd.read_csv(\"C:\\sntrain.csv\")"
   ]
  },
  {
   "cell_type": "code",
   "execution_count": 21,
   "id": "a1316385",
   "metadata": {},
   "outputs": [],
   "source": [
    "import ipywidgets as widgets"
   ]
  },
  {
   "cell_type": "code",
   "execution_count": 22,
   "id": "c377cd44",
   "metadata": {},
   "outputs": [],
   "source": [
    "style = {'description_width': 'initial'}"
   ]
  },
  {
   "cell_type": "code",
   "execution_count": 23,
   "id": "fa476753",
   "metadata": {},
   "outputs": [],
   "source": [
    "limit_case = widgets.IntSlider(\n",
    "    value=1000,\n",
    "    min=100,\n",
    "    max=5000,\n",
    "    step=1,\n",
    "    description='Max Number of Case:',\n",
    "    disabled=False,\n",
    "    style=style)"
   ]
  },
  {
   "cell_type": "code",
   "execution_count": 24,
   "id": "ac466e3a",
   "metadata": {},
   "outputs": [],
   "source": [
    "unique_district = df.PdDistrict.unique()\n"
   ]
  },
  {
   "cell_type": "code",
   "execution_count": 25,
   "id": "a0f1c78d",
   "metadata": {},
   "outputs": [],
   "source": [
    "unique_cat = df.Category.unique()"
   ]
  },
  {
   "cell_type": "code",
   "execution_count": 26,
   "id": "376fd3eb",
   "metadata": {},
   "outputs": [],
   "source": [
    "from ipywidgets import Layout\n",
    "\n",
    "\n",
    "\n",
    "district = widgets.SelectMultiple(\n",
    "    options = unique_district.tolist(),\n",
    "    value = ['BAYVIEW', 'NORTHERN'],\n",
    "    #rows=10,\n",
    "    description='District',\n",
    "    disabled=False,\n",
    "    layout = Layout(width='50%', height='80px')\n",
    ")\n",
    "\n",
    "category = widgets.SelectMultiple(\n",
    "    options = unique_cat.tolist(),\n",
    "    value = ['VANDALISM', 'ASSAULT', 'ROBBERY'],\n",
    "    #rows=10,\n",
    "    description='Criminal Case',\n",
    "    disabled=False,\n",
    "    style=style,\n",
    "    layout = Layout(width='50%', height='80px')\n",
    ")"
   ]
  },
  {
   "cell_type": "code",
   "execution_count": 27,
   "id": "85051439",
   "metadata": {},
   "outputs": [],
   "source": [
    "import matplotlib.pyplot as plt\n",
    "from folium import plugins\n",
    "\n",
    "def update_map(district, category, limit):\n",
    "    \n",
    "    df= pd.read_csv(\"C:\\sntrain.csv\")\n",
    "    df = df.iloc[0:limit, :]\n",
    "    \n",
    "    latitude = 37.77\n",
    "    longitude = -122.42\n",
    "    \n",
    "    df_dist = df.loc[df['PdDistrict'].isin(np.array(district))]\n",
    "    df_category = df_dist.loc[df_dist['Category'].isin(np.array(category))]\n",
    "    \n",
    "    cat_unique = df_category['Category'].value_counts()\n",
    "    cat_unique = cat_unique.reset_index()\n",
    "    \n",
    "    dist_unique = df_category['PdDistrict'].value_counts()\n",
    "    dist_unique = dist_unique.reset_index()\n",
    "    \n",
    "    fig, (ax1, ax2) = plt.subplots(1, 2, figsize=(20,10))\n",
    "\n",
    "    # create map and display it\n",
    "    sanfran_map = folium.Map(location=[latitude, longitude], zoom_start=12)\n",
    "\n",
    "    \n",
    "    incidents = plugins.MarkerCluster().add_to(sanfran_map)\n",
    "\n",
    "# loop through the dataframe and add each data point to the mark cluster\n",
    "    for lat, lng, label, in zip(df_category.Y, df_category.X, df_category.Category):\n",
    "        folium.Marker(\n",
    "        location=[lat, lng],\n",
    "        icon=None,\n",
    "        popup=label,\n",
    "        ).add_to(incidents)\n",
    "# show map\n",
    "    display(sanfran_map)\n",
    "        \n",
    "    ax1.bar(cat_unique['index'], cat_unique['Category'])\n",
    "    ax1.set_title('Amount of Criminal Case Based on Category')\n",
    "    ax2.bar(dist_unique['index'], dist_unique['PdDistrict'])\n",
    "    ax2.set_title('Amount of Criminal Case in Selected District')\n",
    "    \n",
    "    plt.show()"
   ]
  },
  {
   "cell_type": "code",
   "execution_count": 28,
   "id": "24071f02",
   "metadata": {},
   "outputs": [
    {
     "data": {
      "application/vnd.jupyter.widget-view+json": {
       "model_id": "3f7a236b4b9740da9d3b8f2d4fa4d66f",
       "version_major": 2,
       "version_minor": 0
      },
      "text/plain": [
       "interactive(children=(SelectMultiple(description='District', index=(3, 0), layout=Layout(height='80px', width=…"
      ]
     },
     "metadata": {},
     "output_type": "display_data"
    }
   ],
   "source": [
    "widgets.interactive(update_map, district = district, category = category, limit=limit_case)"
   ]
  },
  {
   "cell_type": "code",
   "execution_count": null,
   "id": "c681b935",
   "metadata": {},
   "outputs": [],
   "source": []
  }
 ],
 "metadata": {
  "kernelspec": {
   "display_name": "Python 3 (ipykernel)",
   "language": "python",
   "name": "python3"
  },
  "language_info": {
   "codemirror_mode": {
    "name": "ipython",
    "version": 3
   },
   "file_extension": ".py",
   "mimetype": "text/x-python",
   "name": "python",
   "nbconvert_exporter": "python",
   "pygments_lexer": "ipython3",
   "version": "3.9.7"
  }
 },
 "nbformat": 4,
 "nbformat_minor": 5
}
